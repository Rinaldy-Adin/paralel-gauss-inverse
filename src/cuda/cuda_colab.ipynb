{
  "cells": [
    {
      "cell_type": "code",
      "execution_count": null,
      "metadata": {
        "colab": {
          "base_uri": "https://localhost:8080/"
        },
        "id": "Dl3TEh90r52a",
        "outputId": "d711b791-d21b-4f08-ab05-14cb2f248a4a"
      },
      "outputs": [
        {
          "name": "stdout",
          "output_type": "stream",
          "text": [
            "nvcc: NVIDIA (R) Cuda compiler driver\n",
            "Copyright (c) 2005-2023 NVIDIA Corporation\n",
            "Built on Tue_Aug_15_22:02:13_PDT_2023\n",
            "Cuda compilation tools, release 12.2, V12.2.140\n",
            "Build cuda_12.2.r12.2/compiler.33191640_0\n"
          ]
        }
      ],
      "source": [
        "!nvcc --version"
      ]
    },
    {
      "cell_type": "markdown",
      "metadata": {
        "id": "RhHxShkI3gSp"
      },
      "source": [
        "# CUDA Code"
      ]
    },
    {
      "cell_type": "code",
      "execution_count": 10,
      "metadata": {
        "colab": {
          "base_uri": "https://localhost:8080/"
        },
        "id": "U_NUhqKktIE7",
        "outputId": "6ae8d6d0-b96c-472f-c96e-d07298c9710b"
      },
      "outputs": [
        {
          "name": "stdout",
          "output_type": "stream",
          "text": [
            "Writing cuda.cu\n"
          ]
        }
      ],
      "source": [
        "%%writefile cuda.cu\n",
        "#include <iostream>\n",
        "#include <cmath>\n",
        "#include <stdio.h>\n",
        "\n",
        "#define MAX_SHARED_MEM 2048\n",
        "#define MAX_BLOCK_SIZE 1024\n",
        "\n",
        "using namespace std;\n",
        "\n",
        "struct Matrix {\n",
        "    int rows;\n",
        "    int cols;\n",
        "    double *mat;\n",
        "};\n",
        "\n",
        "double getElement(Matrix m, int row, int col) {\n",
        "    return m.mat[row * m.cols + col];\n",
        "}\n",
        "\n",
        "void setElement(Matrix m, int row, int col, double val) {\n",
        "    m.mat[row * m.cols + col] = val;\n",
        "}\n",
        "\n",
        "__device__ double getElementDev(Matrix m, int row, int col) {\n",
        "    return m.mat[row * m.cols + col];\n",
        "}\n",
        "\n",
        "__device__ void setElementDev(Matrix m, int row, int col, double val) {\n",
        "    m.mat[row * m.cols + col] = val;\n",
        "}\n",
        "\n",
        "void allocateMatrix(Matrix &m, int size) {\n",
        "    m.rows = size;\n",
        "    m.cols = size * 2;\n",
        "    m.mat = new double[m.rows * m.cols];\n",
        "    for(int i = 0; i < size; ++i) {\n",
        "        for(int j = 0; j < 2*size; ++j) {\n",
        "            setElement(m, i, j, (j - size == i) ? 1.0 : 0.0);\n",
        "        }\n",
        "    }\n",
        "}\n",
        "\n",
        "void readMatrix(Matrix &m) {\n",
        "    int n;\n",
        "    cin >> n;\n",
        "    allocateMatrix(m, n);\n",
        "    for (int i = 0; i < n; ++i)\n",
        "        for (int j = 0; j < n; ++j){\n",
        "            double x;\n",
        "            cin >> x;\n",
        "            setElement(m, i, j, x);\n",
        "        }\n",
        "}\n",
        "\n",
        "void printMatrix(const Matrix &m) {\n",
        "    for(int i = 0; i < m.rows; ++i) {\n",
        "        for(int j = 0; j < m.cols; ++j) {\n",
        "            printf(\"%lf \", getElement(m, i, j));\n",
        "        }\n",
        "        printf(\"\\n\");\n",
        "    }\n",
        "}\n",
        "\n",
        "void printIdent(const Matrix &m) {\n",
        "    for(int i = 0; i < m.rows; ++i) {\n",
        "        for(int j = m.rows; j < m.cols; ++j) {\n",
        "            printf(\"%lf \", getElement(m, i, j));\n",
        "        }\n",
        "        printf(\"\\n\");\n",
        "    }\n",
        "}\n",
        "\n",
        "__device__ void printMatrixDev(const Matrix &m) {\n",
        "    for(int i = 0; i < m.rows; ++i) {\n",
        "        for(int j = 0; j < m.cols; ++j) {\n",
        "            printf(\"%lf \", getElementDev(m, i, j));\n",
        "        }\n",
        "        printf(\"\\n\");\n",
        "    }\n",
        "}\n",
        "\n",
        "__device__ int calculateRowStart(int n_rows, int threadNum, int blockSize) {\n",
        "    int rows_per_process = n_rows / blockSize;\n",
        "    int rem = n_rows % blockSize;\n",
        "    return (threadNum <= rem) ? (rows_per_process + 1) * threadNum : (rows_per_process + 1) * rem + rows_per_process * (threadNum - rem);;\n",
        "}\n",
        "\n",
        "__device__ Matrix generateSubmatrix(Matrix &big_mat, int threadNum, int blockSize) {\n",
        "    int rows_per_process = big_mat.rows / blockSize;\n",
        "    int rem = big_mat.rows % blockSize;\n",
        "\n",
        "    Matrix sub_mat;\n",
        "    sub_mat.rows = (threadNum < rem) ? (rows_per_process + 1) : rows_per_process;\n",
        "    sub_mat.cols = big_mat.cols;\n",
        "\n",
        "    int row_start = calculateRowStart(big_mat.rows, threadNum, blockSize);\n",
        "    sub_mat.mat = &big_mat.mat[row_start * sub_mat.cols];\n",
        "\n",
        "    return sub_mat;\n",
        "}\n",
        "\n",
        "__global__ void matrixInversion(Matrix m, int blockSize) {\n",
        "    Matrix local_mat = generateSubmatrix(m, threadIdx.x, blockSize);\n",
        "\n",
        "    extern __shared__ double pivot[];\n",
        "\n",
        "    int thread_pivot_row_start = calculateRowStart(m.rows, threadIdx.x, blockSize);\n",
        "    int thread_pivot_row_end = thread_pivot_row_start + local_mat.rows;\n",
        "    int n = m.rows;\n",
        "\n",
        "    for (int i = 0; i < n; ++i) {\n",
        "        if (thread_pivot_row_start <= i && i < thread_pivot_row_end) {\n",
        "            double d = getElementDev(local_mat, i - thread_pivot_row_start, i);\n",
        "\n",
        "            for (int j = 0; j < 2 * n; ++j) {\n",
        "                double x = getElementDev(local_mat, i - thread_pivot_row_start, j) / d;\n",
        "                setElementDev(local_mat, i - thread_pivot_row_start, j, x);\n",
        "            }\n",
        "        }\n",
        "\n",
        "        for (int col_block_i = (m.cols - 1) / MAX_SHARED_MEM; col_block_i >= 0; col_block_i--) {\n",
        "            int col_block_j_start = col_block_i * MAX_SHARED_MEM;\n",
        "            int col_block_j_end = min((col_block_i + 1) * MAX_SHARED_MEM, m.cols);\n",
        "\n",
        "\n",
        "            if (thread_pivot_row_start <= i && i < thread_pivot_row_end) {\n",
        "                for (int j = col_block_j_start; j < col_block_j_end; j++) {\n",
        "                    pivot[j - col_block_j_start] = getElementDev(local_mat, i - thread_pivot_row_start, j);\n",
        "                }\n",
        "            }\n",
        "            __syncthreads();\n",
        "\n",
        "            for (int local_i = 0; local_i < local_mat.rows; local_i++) {\n",
        "                if (thread_pivot_row_start <= i && i < thread_pivot_row_end && local_i == i - thread_pivot_row_start)\n",
        "                    continue;\n",
        "\n",
        "                double factor = getElementDev(local_mat, local_i, i);\n",
        "\n",
        "                for (int j = col_block_j_start; j < col_block_j_end; ++j) {\n",
        "                    double x = getElementDev(local_mat, local_i, j);\n",
        "                    double y = x - (pivot[j - col_block_j_start] * factor);\n",
        "                    setElementDev(local_mat, local_i, j, y);\n",
        "                }\n",
        "            }\n",
        "            __syncthreads();\n",
        "        }\n",
        "    }\n",
        "}\n",
        "\n",
        "int main(void) {\n",
        "    Matrix m;\n",
        "    readMatrix(m);\n",
        "\n",
        "    size_t size = m.rows * m.cols * sizeof(double);\n",
        "    Matrix d_m;\n",
        "    d_m.rows = m.rows;\n",
        "    d_m.cols = m.cols;\n",
        "    cudaMalloc((void**)&d_m.mat, size);\n",
        "    cudaMemcpy(d_m.mat, m.mat, size, cudaMemcpyHostToDevice);\n",
        "\n",
        "    int blockSize = min(MAX_BLOCK_SIZE, m.rows);\n",
        "    int sharedMemSize = blockSize * sizeof(double) * 2;\n",
        "\n",
        "    matrixInversion<<<1, blockSize, sharedMemSize>>>(d_m, blockSize);\n",
        "\n",
        "    cudaMemcpy(m.mat, d_m.mat, size, cudaMemcpyDeviceToHost);\n",
        "\n",
        "    printf(\"%d\\n\", m.rows);\n",
        "    printIdent(m);\n",
        "    cudaFree(d_m.mat);\n",
        "\n",
        "    cudaDeviceSynchronize();\n",
        "\n",
        "    return 0;\n",
        "}"
      ]
    },
    {
      "cell_type": "markdown",
      "metadata": {
        "id": "Cz8PXCw03pm_"
      },
      "source": [
        "# Serial Code"
      ]
    },
    {
      "cell_type": "code",
      "execution_count": 11,
      "metadata": {
        "colab": {
          "base_uri": "https://localhost:8080/"
        },
        "id": "rGpfNT-A3w0R",
        "outputId": "d2574498-d79b-4b0f-dfdb-c0c5e37421de"
      },
      "outputs": [
        {
          "name": "stdout",
          "output_type": "stream",
          "text": [
            "Writing serial.cpp\n"
          ]
        }
      ],
      "source": [
        "%%writefile serial.cpp\n",
        "#include <iostream>\n",
        "#include <chrono>\n",
        "#include <cmath>\n",
        "\n",
        "using namespace std;\n",
        "\n",
        "struct Matrix {\n",
        "    int size;\n",
        "    double **mat;\n",
        "};\n",
        "\n",
        "void allocateMatrix(Matrix &m, int size) {\n",
        "    m.size = size;\n",
        "    m.mat = new double*[size];\n",
        "    for(int i = 0; i < size; ++i) {\n",
        "        m.mat[i] = new double[2*size];\n",
        "        for(int j = 0; j < 2*size; ++j) {\n",
        "            m.mat[i][j] = (j - size == i) ? 1.0 : 0.0;\n",
        "        }\n",
        "    }\n",
        "}\n",
        "\n",
        "void freeMatrix(Matrix &m) {\n",
        "    for(int i = 0; i < m.size; ++i)\n",
        "        delete[] m.mat[i];\n",
        "    delete[] m.mat;\n",
        "}\n",
        "\n",
        "void readMatrix(Matrix &m) {\n",
        "    int n;\n",
        "    cin >> n;\n",
        "    allocateMatrix(m, n);\n",
        "    for (int i = 0; i < n; ++i)\n",
        "        for (int j = 0; j < n; ++j)\n",
        "            cin >> m.mat[i][j];\n",
        "}\n",
        "\n",
        "void gaussJordan(Matrix &m) {\n",
        "    int n = m.size;\n",
        "\n",
        "    for(int i = 0; i < n; ++i) {\n",
        "        double d = m.mat[i][i];\n",
        "        for(int j = 0; j < 2*n; ++j) {\n",
        "            m.mat[i][j] /= d;\n",
        "        }\n",
        "\n",
        "        for(int k = 0; k < n; ++k) {\n",
        "            if(k != i) {\n",
        "                double factor = m.mat[k][i];\n",
        "                for(int j = 0; j < 2*n; ++j) {\n",
        "                    m.mat[k][j] -= factor * m.mat[i][j];\n",
        "                }\n",
        "            }\n",
        "        }\n",
        "    }\n",
        "}\n",
        "\n",
        "void printMatrix(const Matrix &m) {\n",
        "    int n = m.size;\n",
        "    for(int i = 0; i < n; ++i) {\n",
        "        for(int j = n; j < 2*n; ++j) {\n",
        "            cout << m.mat[i][j] << \" \";\n",
        "        }\n",
        "        cout << endl;\n",
        "    }\n",
        "}\n",
        "\n",
        "int main() {\n",
        "    Matrix m;\n",
        "\n",
        "    readMatrix(m);\n",
        "    auto start = std::chrono::high_resolution_clock::now();\n",
        "    gaussJordan(m);\n",
        "    auto stop = std::chrono::high_resolution_clock::now();\n",
        "    std::chrono::duration<double> duration = stop - start;\n",
        "\n",
        "    printMatrix(m);\n",
        "    cout << \"Time taken by function: \" << duration.count() << \" seconds\" << endl;\n",
        "\n",
        "\n",
        "    freeMatrix(m);\n",
        "\n",
        "    return 0;\n",
        "}"
      ]
    },
    {
      "cell_type": "markdown",
      "metadata": {
        "id": "GnXrxltt4Gy9"
      },
      "source": [
        "# Compile Programs"
      ]
    },
    {
      "cell_type": "code",
      "execution_count": 16,
      "metadata": {
        "id": "BiaifNkd5MFM"
      },
      "outputs": [],
      "source": [
        "!nvcc cuda.cu -o ./bin/cuda\n",
        "!g++ serial.cpp -o ./bin/serial"
      ]
    },
    {
      "cell_type": "markdown",
      "metadata": {
        "id": "_aJCG5N05B5t"
      },
      "source": [
        "# Copy files from GDrive to env"
      ]
    },
    {
      "cell_type": "code",
      "execution_count": 9,
      "metadata": {
        "id": "k8xahQgf5HcD"
      },
      "outputs": [],
      "source": [
        "from google.colab import drive\n",
        "drive.mount('/content/drive')\n",
        "\n",
        "!cp -r /content/drive/MyDrive/sister-data ./test_case"
      ]
    },
    {
      "cell_type": "markdown",
      "metadata": {
        "id": "WuIEn-8I4SXY"
      },
      "source": [
        "# Test Case 32"
      ]
    },
    {
      "cell_type": "code",
      "execution_count": 17,
      "metadata": {
        "colab": {
          "base_uri": "https://localhost:8080/"
        },
        "id": "8arD6IXy5SSI",
        "outputId": "e215a7a7-0d2d-4f55-fc5a-670208fd05e5"
      },
      "outputs": [
        {
          "name": "stdout",
          "output_type": "stream",
          "text": [
            "\n",
            "real\t0m0.348s\n",
            "user\t0m0.092s\n",
            "sys\t0m0.127s\n"
          ]
        }
      ],
      "source": [
        "!time ./bin/cuda < ./test_case/32.txt > ./output/output_cuda_32.txt"
      ]
    },
    {
      "cell_type": "code",
      "execution_count": 18,
      "metadata": {
        "colab": {
          "base_uri": "https://localhost:8080/"
        },
        "id": "QK06rd5LPfYo",
        "outputId": "45418d6c-3ca6-4ee7-b93a-784b2138f393"
      },
      "outputs": [
        {
          "name": "stdout",
          "output_type": "stream",
          "text": [
            "\n",
            "real\t0m0.007s\n",
            "user\t0m0.003s\n",
            "sys\t0m0.002s\n"
          ]
        }
      ],
      "source": [
        "!time ./bin/serial < ./test_case/32.txt > ./output/output_serial_32.txt"
      ]
    },
    {
      "cell_type": "markdown",
      "metadata": {
        "id": "F4ozGAlP7haO"
      },
      "source": [
        "# Test Case 64"
      ]
    },
    {
      "cell_type": "code",
      "execution_count": 19,
      "metadata": {
        "colab": {
          "base_uri": "https://localhost:8080/"
        },
        "id": "_TqTJuvp7kAU",
        "outputId": "a526f481-5c4a-4006-8045-387cc39d2e6e"
      },
      "outputs": [
        {
          "name": "stdout",
          "output_type": "stream",
          "text": [
            "\n",
            "real\t0m0.159s\n",
            "user\t0m0.036s\n",
            "sys\t0m0.118s\n"
          ]
        }
      ],
      "source": [
        "!time ./bin/cuda < ./test_case/64.txt > ./output/output_cuda_64.txt"
      ]
    },
    {
      "cell_type": "code",
      "execution_count": 21,
      "metadata": {
        "colab": {
          "base_uri": "https://localhost:8080/"
        },
        "id": "1GoEzp3n7mW2",
        "outputId": "7c364c10-b8aa-4b59-acc9-17f9938fc85a"
      },
      "outputs": [
        {
          "name": "stdout",
          "output_type": "stream",
          "text": [
            "\n",
            "real\t0m0.012s\n",
            "user\t0m0.009s\n",
            "sys\t0m0.003s\n"
          ]
        }
      ],
      "source": [
        "!time ./bin/serial < ./test_case/64.txt > ./output/output_serial_64.txt"
      ]
    },
    {
      "cell_type": "markdown",
      "metadata": {
        "id": "QjsoaE4B7rOo"
      },
      "source": [
        "# Test Case 128"
      ]
    },
    {
      "cell_type": "code",
      "execution_count": 22,
      "metadata": {
        "colab": {
          "base_uri": "https://localhost:8080/"
        },
        "id": "Qs_hn4UV7wDI",
        "outputId": "0d4c39b8-0651-470f-b5a2-8367356d9503"
      },
      "outputs": [
        {
          "name": "stdout",
          "output_type": "stream",
          "text": [
            "\n",
            "real\t0m0.218s\n",
            "user\t0m0.102s\n",
            "sys\t0m0.113s\n"
          ]
        }
      ],
      "source": [
        "!time ./bin/cuda < ./test_case/128.txt > ./output/output_cuda_128.txt"
      ]
    },
    {
      "cell_type": "code",
      "execution_count": 23,
      "metadata": {
        "colab": {
          "base_uri": "https://localhost:8080/"
        },
        "id": "jhMWSfZs70ay",
        "outputId": "1b148d29-d50e-4c05-f657-5fefdc9614f1"
      },
      "outputs": [
        {
          "name": "stdout",
          "output_type": "stream",
          "text": [
            "\n",
            "real\t0m0.043s\n",
            "user\t0m0.042s\n",
            "sys\t0m0.000s\n"
          ]
        }
      ],
      "source": [
        "!time ./bin/serial < ./test_case/128.txt > ./output/output_serial_128.txt"
      ]
    },
    {
      "cell_type": "markdown",
      "metadata": {
        "id": "hA0JRJlX74uz"
      },
      "source": [
        "# Test Case 256"
      ]
    },
    {
      "cell_type": "code",
      "execution_count": 24,
      "metadata": {
        "colab": {
          "base_uri": "https://localhost:8080/"
        },
        "id": "GBPzAgxX78Pq",
        "outputId": "dc90b88e-6a0c-4e44-ce8c-3a31089deb80"
      },
      "outputs": [
        {
          "name": "stdout",
          "output_type": "stream",
          "text": [
            "\n",
            "real\t0m0.485s\n",
            "user\t0m0.360s\n",
            "sys\t0m0.117s\n"
          ]
        }
      ],
      "source": [
        "!time ./bin/cuda < ./test_case/256.txt > ./output/output_cuda_256.txt"
      ]
    },
    {
      "cell_type": "code",
      "execution_count": 25,
      "metadata": {
        "colab": {
          "base_uri": "https://localhost:8080/"
        },
        "id": "r0NMIVxl7978",
        "outputId": "ad5bdd5a-99c1-4989-be88-8bec1195bb47"
      },
      "outputs": [
        {
          "name": "stdout",
          "output_type": "stream",
          "text": [
            "\n",
            "real\t0m0.465s\n",
            "user\t0m0.428s\n",
            "sys\t0m0.005s\n"
          ]
        }
      ],
      "source": [
        "!time ./bin/serial < ./test_case/256.txt > ./output/output_serial_256.txt"
      ]
    },
    {
      "cell_type": "markdown",
      "metadata": {
        "id": "iSlyjqod8EeG"
      },
      "source": [
        "# Test Case 512"
      ]
    },
    {
      "cell_type": "code",
      "execution_count": 26,
      "metadata": {
        "colab": {
          "base_uri": "https://localhost:8080/"
        },
        "id": "gXNq8Ygx8HjG",
        "outputId": "5a62c135-c3c2-4fe2-ecb0-f3e6f932cac0"
      },
      "outputs": [
        {
          "name": "stdout",
          "output_type": "stream",
          "text": [
            "\n",
            "real\t0m1.329s\n",
            "user\t0m1.198s\n",
            "sys\t0m0.121s\n"
          ]
        }
      ],
      "source": [
        "!time ./bin/cuda < ./test_case/512.txt > ./output/output_cuda_512.txt"
      ]
    },
    {
      "cell_type": "code",
      "execution_count": 27,
      "metadata": {
        "colab": {
          "base_uri": "https://localhost:8080/"
        },
        "id": "N-ip7KVw8K9k",
        "outputId": "30586d53-0a8f-4b38-a2fa-54d926a4363e"
      },
      "outputs": [
        {
          "name": "stdout",
          "output_type": "stream",
          "text": [
            "\n",
            "real\t0m2.011s\n",
            "user\t0m1.965s\n",
            "sys\t0m0.015s\n"
          ]
        }
      ],
      "source": [
        "!time ./bin/serial < ./test_case/512.txt > ./output/output_serial_512.txt"
      ]
    },
    {
      "cell_type": "markdown",
      "metadata": {
        "id": "WZqk8_L48Q5E"
      },
      "source": [
        "# Test Case 1024"
      ]
    },
    {
      "cell_type": "code",
      "execution_count": 28,
      "metadata": {
        "colab": {
          "base_uri": "https://localhost:8080/"
        },
        "id": "Mu0MeJVT8StZ",
        "outputId": "979436bf-d6f6-4ccc-bf9b-249569b6a177"
      },
      "outputs": [
        {
          "name": "stdout",
          "output_type": "stream",
          "text": [
            "\n",
            "real\t0m7.260s\n",
            "user\t0m7.064s\n",
            "sys\t0m0.142s\n"
          ]
        }
      ],
      "source": [
        "!time ./bin/cuda < ./test_case/1024.txt > ./output/output_cuda_1024.txt"
      ]
    },
    {
      "cell_type": "code",
      "execution_count": 29,
      "metadata": {
        "colab": {
          "base_uri": "https://localhost:8080/"
        },
        "id": "jEPpyI3j8U_z",
        "outputId": "f364255c-d1a7-4d1b-d48f-50478021c4fd"
      },
      "outputs": [
        {
          "name": "stdout",
          "output_type": "stream",
          "text": [
            "\n",
            "real\t0m12.962s\n",
            "user\t0m12.796s\n",
            "sys\t0m0.037s\n"
          ]
        }
      ],
      "source": [
        "!time ./bin/serial < ./test_case/1024.txt > ./output/output_serial_1024.txt"
      ]
    },
    {
      "cell_type": "markdown",
      "metadata": {
        "id": "NJFpM2pK8gBT"
      },
      "source": [
        "# Test Case 2048"
      ]
    },
    {
      "cell_type": "code",
      "execution_count": 30,
      "metadata": {
        "colab": {
          "base_uri": "https://localhost:8080/"
        },
        "id": "Q-KZEjSx8iQi",
        "outputId": "c4a4a49f-b2ad-4573-f2b4-0917766e139a"
      },
      "outputs": [
        {
          "name": "stdout",
          "output_type": "stream",
          "text": [
            "\n",
            "real\t0m42.424s\n",
            "user\t0m41.676s\n",
            "sys\t0m0.240s\n"
          ]
        }
      ],
      "source": [
        "!time ./bin/cuda < ./test_case/2048.txt > ./output/output_cuda_2048.txt"
      ]
    },
    {
      "cell_type": "code",
      "execution_count": 31,
      "metadata": {
        "colab": {
          "base_uri": "https://localhost:8080/"
        },
        "id": "HBRwU4Wu8jaZ",
        "outputId": "75fd067e-af7a-4fa5-9770-7de8a4c6e9dd"
      },
      "outputs": [
        {
          "name": "stdout",
          "output_type": "stream",
          "text": [
            "\n",
            "real\t1m37.220s\n",
            "user\t1m36.294s\n",
            "sys\t0m0.169s\n"
          ]
        }
      ],
      "source": [
        "!time ./bin/serial < ./test_case/2048.txt > ./output/output_serial_2048.txt"
      ]
    }
  ],
  "metadata": {
    "accelerator": "GPU",
    "colab": {
      "collapsed_sections": [
        "RhHxShkI3gSp",
        "Cz8PXCw03pm_",
        "_aJCG5N05B5t"
      ],
      "gpuType": "T4",
      "provenance": []
    },
    "kernelspec": {
      "display_name": "Python 3",
      "name": "python3"
    },
    "language_info": {
      "name": "python"
    }
  },
  "nbformat": 4,
  "nbformat_minor": 0
}
